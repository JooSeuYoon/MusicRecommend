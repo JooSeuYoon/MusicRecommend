{
 "cells": [
  {
   "cell_type": "markdown",
   "metadata": {
    "collapsed": false
   },
   "source": [
    "https://www.kaggle.com/datasets/geomack/spotifyclassification?resource=download\n",
    "https://machinelearninggeek.com/spotify-song-recommender-system-in-python/\n",
    "https://docs.google.com/presentation/d/1m_R0nk1lmR6GW3rKY58qCw8Fh8Fsij6LyV88p7Sfc60/edit?usp=sharing"
   ]
  },
  {
   "cell_type": "code",
   "execution_count": 1,
   "metadata": {
    "collapsed": false
   },
   "outputs": [
    {
     "name": "stdout",
     "output_type": "stream",
     "text": [
      "   Unnamed: 0  acousticness  danceability  duration_ms  energy  \\\n",
      "0           0        0.0102         0.833       204600   0.434   \n",
      "1           1        0.1990         0.743       326933   0.359   \n",
      "2           2        0.0344         0.838       185707   0.412   \n",
      "3           3        0.6040         0.494       199413   0.338   \n",
      "4           4        0.1800         0.678       392893   0.561   \n",
      "\n",
      "   instrumentalness  key  liveness  loudness  mode  speechiness    tempo  \\\n",
      "0          0.021900    2    0.1650    -8.795     1       0.4310  150.062   \n",
      "1          0.006110    1    0.1370   -10.401     1       0.0794  160.083   \n",
      "2          0.000234    2    0.1590    -7.148     1       0.2890   75.044   \n",
      "3          0.510000    5    0.0922   -15.236     1       0.0261   86.468   \n",
      "4          0.512000    5    0.4390   -11.648     0       0.0694  174.004   \n",
      "\n",
      "   time_signature  valence  target      song_title            artist  \n",
      "0             4.0    0.286       1        Mask Off            Future  \n",
      "1             4.0    0.588       1         Redbone  Childish Gambino  \n",
      "2             4.0    0.173       1    Xanny Family            Future  \n",
      "3             4.0    0.230       1  Master Of None       Beach House  \n",
      "4             4.0    0.904       1  Parallel Lines       Junior Boys  \n"
     ]
    }
   ],
   "source": [
    "import pandas as pd\n",
    "from sklearn.metrics.pairwise import sigmoid_kernel\n",
    "from sklearn.metrics.pairwise import cosine_similarity\n",
    "from sklearn import preprocessing\n",
    "\n",
    "df = pd.read_csv(\"/2017_songs/data.csv\")\n",
    "print(df.head())"
   ]
  },
  {
   "cell_type": "code",
   "execution_count": 2,
   "metadata": {
    "collapsed": false
   },
   "outputs": [
    {
     "name": "stdout",
     "output_type": "stream",
     "text": [
      "<class 'pandas.core.frame.DataFrame'>\n",
      "RangeIndex: 2017 entries, 0 to 2016\n",
      "Data columns (total 17 columns):\n",
      " #   Column            Non-Null Count  Dtype  \n",
      "---  ------            --------------  -----  \n",
      " 0   Unnamed: 0        2017 non-null   int64  \n",
      " 1   acousticness      2017 non-null   float64\n",
      " 2   danceability      2017 non-null   float64\n",
      " 3   duration_ms       2017 non-null   int64  \n",
      " 4   energy            2017 non-null   float64\n",
      " 5   instrumentalness  2017 non-null   float64\n",
      " 6   key               2017 non-null   int64  \n",
      " 7   liveness          2017 non-null   float64\n",
      " 8   loudness          2017 non-null   float64\n",
      " 9   mode              2017 non-null   int64  \n",
      " 10  speechiness       2017 non-null   float64\n",
      " 11  tempo             2017 non-null   float64\n",
      " 12  time_signature    2017 non-null   float64\n",
      " 13  valence           2017 non-null   float64\n",
      " 14  target            2017 non-null   int64  \n",
      " 15  song_title        2017 non-null   object \n",
      " 16  artist            2017 non-null   object \n",
      "dtypes: float64(10), int64(5), object(2)\n",
      "memory usage: 268.0+ KB\n",
      "None\n"
     ]
    }
   ],
   "source": [
    "print(df.info())"
   ]
  },
  {
   "cell_type": "code",
   "execution_count": 3,
   "metadata": {
    "collapsed": false
   },
   "outputs": [
    {
     "name": "stdout",
     "output_type": "stream",
     "text": [
      "[[0.01024843 0.82482599 0.19073524 0.4263629  0.02243852 0.18181818\n",
      "  0.15386234 0.74114059 1.         0.51444066 0.59603317 0.75\n",
      "  0.26243209]\n",
      " [0.19999772 0.72041763 0.3144808  0.35008137 0.00626025 0.09090909\n",
      "  0.12439486 0.69216224 1.         0.07100517 0.6544742  0.75\n",
      "  0.57793565]]\n"
     ]
    }
   ],
   "source": [
    "feature_cols=['acousticness', 'danceability', 'duration_ms', 'energy',\n",
    "              'instrumentalness', 'key', 'liveness', 'loudness', 'mode',\n",
    "              'speechiness', 'tempo', 'time_signature', 'valence',]\n",
    "from sklearn.preprocessing import MinMaxScaler\n",
    "scaler = MinMaxScaler()\n",
    "normalized_df = scaler.fit_transform(df[feature_cols])\n",
    "print(normalized_df[:2])"
   ]
  },
  {
   "cell_type": "code",
   "execution_count": 4,
   "metadata": {
    "collapsed": false
   },
   "outputs": [],
   "source": [
    "# Create a pandas series with song titles as indices and indices as series values\n",
    "indices = pd.Series(df.index, index=df['song_title']).drop_duplicates()\n",
    "# Create cosine similarity matrix based on given matrix\n",
    "cosine = cosine_similarity(normalized_df)\n",
    "\n",
    "def generate_recommendation(song_title, model_tyoe=cosine):\n",
    "    \"\"\"\n",
    "    Purpose: Function for song recommendations\n",
    "    Inputs: song title and type of similarity model\n",
    "    Output: Pandas series of recommended songs\n",
    "    \"\"\"\n",
    "    # Get song indices\n",
    "    index = indices[song_title]\n",
    "    # Get list of songs for given songs\n",
    "    score = list(enumerate(model_tyoe[indices['Parallel Lines']]))\n",
    "    # Sort the most similar songs\n",
    "    similarity_score = sorted(score, key=lambda x:x[1], reverse=True)\n",
    "    # Select the top10 recommend songs\n",
    "    similarity_score = similarity_score[1:11]\n",
    "    top_sons_index = [i[0] for i in similarity_score]\n",
    "    # Top10 recommend songs\n",
    "    top_songs = df['song_title'].iloc[top_sons_index]\n",
    "    return top_songs"
   ]
  },
  {
   "cell_type": "code",
   "execution_count": 5,
   "metadata": {
    "collapsed": false
   },
   "outputs": [
    {
     "name": "stdout",
     "output_type": "stream",
     "text": [
      "Recommended Songs:\n",
      "['Inspector Norse' 'Stock Exchange'\n",
      " \"Let's Lovedance Tonight - Danny Krivit Re-edit - Dk Re-Edit\" '200 Press'\n",
      " 'Ferus Gallery' 'Boys' 'Abataka - Original Mix' 'It Looks Like Love'\n",
      " 'You & Me - Baauer Remix' 'Johnny Was']\n"
     ]
    }
   ],
   "source": [
    "print(\"Recommended Songs:\")\n",
    "print(generate_recommendation('Parallel Lines', cosine).values)"
   ]
  },
  {
   "cell_type": "code",
   "execution_count": 6,
   "metadata": {
    "collapsed": false
   },
   "outputs": [
    {
     "name": "stdout",
     "output_type": "stream",
     "text": [
      "Recommended Songs:\n",
      "['Inspector Norse' 'Trap Shit V7' 'GodLovesUgly'\n",
      " 'Blueberry (Pills & Cocaine) (feat. Danny Brown)'\n",
      " 'Dreams Never End - 2015 Remastered Version' 'Nimble Girl' 'Lazuli'\n",
      " 'Fail to Cry' 'Au Seve' 'Giant']\n"
     ]
    }
   ],
   "source": [
    "# Create sigmoid kernel matrix based on given matrix\n",
    "sig_kernel = sigmoid_kernel(normalized_df)\n",
    "print(\"Recommended Songs:\")\n",
    "print(generate_recommendation('Parallel Lines', sig_kernel).values)"
   ]
  }
 ],
 "metadata": {
  "kernelspec": {
   "display_name": "Python 3",
   "language": "python",
   "name": "python3"
  },
  "language_info": {
   "codemirror_mode": {
    "name": "ipython",
    "version": 2
   },
   "file_extension": ".py",
   "mimetype": "text/x-python",
   "name": "python",
   "nbconvert_exporter": "python",
   "pygments_lexer": "ipython2",
   "version": "2.7.6"
  }
 },
 "nbformat": 4,
 "nbformat_minor": 0
}
