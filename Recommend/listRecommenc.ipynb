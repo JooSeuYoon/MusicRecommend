{
 "cells": [
  {
   "cell_type": "markdown",
   "metadata": {},
   "source": [
    "### Get list from CSV files"
   ]
  },
  {
   "cell_type": "code",
   "execution_count": 134,
   "metadata": {},
   "outputs": [],
   "source": [
    "import csv\n",
    "from os import listdir\n",
    "import os\n",
    "from os.path import isfile, join"
   ]
  },
  {
   "cell_type": "code",
   "execution_count": 135,
   "metadata": {},
   "outputs": [
    {
     "name": "stdout",
     "output_type": "stream",
     "text": [
      "Success to load csv as csvFiles, add songs to playList dictionary value\n",
      "PlayList count : 100\n"
     ]
    }
   ],
   "source": [
    "nowPath = os.getcwd()\n",
    "\n",
    "csvFiles = [f for f in listdir(nowPath + \"/songs_like\") if isfile(join(nowPath + \"/songs_like\", f))]\n",
    "\n",
    "playList = dict() # key : Playlist File name / value : [song ID, song Name]\n",
    "\n",
    "for oneFile in csvFiles:\n",
    "   with open(nowPath + \"/songs_like/\" + oneFile, 'r') as file:\n",
    "      songsList = []\n",
    "      reader = csv.reader(file)\n",
    "      countLine = 0\n",
    "      for row in reader:\n",
    "         if(countLine != 0):\n",
    "            songsList.append([row[0], row[2]])\n",
    "         countLine +=1\n",
    "      playList[oneFile[:-4]] = songsList\n",
    "\n",
    "print(\"Success to load csv as csvFiles, add songs to playList dictionary value\")\n",
    "print(\"PlayList count : \" + str(len(playList)))\n"
   ]
  },
  {
   "cell_type": "markdown",
   "metadata": {},
   "source": [
    "### For example, Compare one to others"
   ]
  },
  {
   "cell_type": "code",
   "execution_count": 136,
   "metadata": {},
   "outputs": [
    {
     "name": "stdout",
     "output_type": "stream",
     "text": [
      "what_if_i_had_a_thing_on_the_side_i_made_u_cry\n",
      "16.27906976744186\n",
      "7\n",
      "my_songs_\n",
      "\n",
      "recommend other playlist 10 songs\n",
      "Pain\n",
      "SOLVED THE PROBLEM\n",
      "GONE, GONE / THANK YOU\n",
      "Locked out of Heaven\n",
      "All The Stars (with SZA)\n",
      "Streets\n",
      "See You Again (feat. Kali Uchis)\n",
      "Myron\n",
      "20 Min\n",
      "Black Out Days - Future Islands Remix\n"
     ]
    }
   ],
   "source": [
    "# compare first playList\n",
    "\n",
    "firstPlayList = csvFiles[0][:-4]\n",
    "\n",
    "#put the csv file name\n",
    "firstPlayList = csvFiles[csvFiles.index(\"clean_tween_music.csv\")][:-4]\n",
    "print(firstPlayList)\n",
    "maxRate = 0\n",
    "maxCount = 0\n",
    "maxSamePlayList = \"\"\n",
    "otherSongs = []\n",
    "\n",
    "print(firstPlayList)\n",
    "\n",
    "for secondPlayList in csvFiles:\n",
    "   if(secondPlayList[:-4] != firstPlayList):\n",
    "      tempCount = 0\n",
    "      for firstSong in playList[firstPlayList]:\n",
    "         for secondSong in playList[secondPlayList[:-4]]:\n",
    "            if(firstSong[0] == secondSong[0]):\n",
    "               tempCount += 1\n",
    "      if(tempCount > maxCount):\n",
    "         maxCount = tempCount\n",
    "         maxSamePlayList = secondPlayList[:-4]\n",
    "         maxRate = maxCount / len(playList[firstPlayList]) * 100\n",
    "\n",
    "print(maxRate)\n",
    "print(maxCount)\n",
    "print(maxSamePlayList)\n",
    "\n",
    "for fsongs in playList[firstPlayList]:\n",
    "   for ssongs in playList[maxSamePlayList]:\n",
    "      if(fsongs[0]!=ssongs):\n",
    "         otherSongs.append(ssongs[1])\n",
    "\n",
    "print(\"\")\n",
    "print(\"recommend other playlist 10 songs\")\n",
    "if(len(otherSongs) < 10):\n",
    "   for i in range(len(otherSongs)):\n",
    "      print(otherSongs[i])\n",
    "else:\n",
    "   for i in range(10):\n",
    "      print(otherSongs[i])"
   ]
  }
 ],
 "metadata": {
  "kernelspec": {
   "display_name": "Python 3",
   "language": "python",
   "name": "python3"
  },
  "language_info": {
   "codemirror_mode": {
    "name": "ipython",
    "version": 3
   },
   "file_extension": ".py",
   "mimetype": "text/x-python",
   "name": "python",
   "nbconvert_exporter": "python",
   "pygments_lexer": "ipython3",
   "version": "3.9.13"
  },
  "orig_nbformat": 4,
  "vscode": {
   "interpreter": {
    "hash": "b0fa6594d8f4cbf19f97940f81e996739fb7646882a419484c72d19e05852a7e"
   }
  }
 },
 "nbformat": 4,
 "nbformat_minor": 2
}
